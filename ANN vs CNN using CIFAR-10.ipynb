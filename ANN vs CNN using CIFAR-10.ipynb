{
 "cells": [
  {
   "cell_type": "code",
   "execution_count": 29,
   "id": "510a26b5-74f6-41fe-bd0e-0906bd8b4033",
   "metadata": {},
   "outputs": [],
   "source": [
    "import tensorflow as tf\n",
    "import keras\n",
    "from tensorflow.keras import datasets,models,layers\n",
    "import matplotlib.pyplot as plt\n",
    "import numpy as np"
   ]
  },
  {
   "cell_type": "markdown",
   "id": "73a681a2-f184-4996-a64d-9ec81c1cc09f",
   "metadata": {},
   "source": [
    "# Dataset - CIFAR-10 - 60000 images, 32 x 32 size, 10 classes  50000 training  10000 testing   -> 5 batchs each batch contains 10000 images"
   ]
  },
  {
   "cell_type": "code",
   "execution_count": 42,
   "id": "742d01c5-b585-41f7-ba1c-6c23eecab5ce",
   "metadata": {},
   "outputs": [
    {
     "name": "stdout",
     "output_type": "stream",
     "text": [
      "['Model', 'Sequential', '__builtins__', '__cached__', '__doc__', '__file__', '__loader__', '__name__', '__package__', '__path__', '__spec__', 'clone_model', 'load_model', 'model_from_json', 'save_model']\n"
     ]
    }
   ],
   "source": [
    "print(dir(models))"
   ]
  },
  {
   "cell_type": "code",
   "execution_count": 3,
   "id": "3be77946-c7ae-477f-9d3a-7ae7e77b69fb",
   "metadata": {},
   "outputs": [
    {
     "data": {
      "text/plain": [
       "tuple"
      ]
     },
     "execution_count": 3,
     "metadata": {},
     "output_type": "execute_result"
    }
   ],
   "source": [
    "type(datasets.cifar10.load_data())"
   ]
  },
  {
   "cell_type": "code",
   "execution_count": null,
   "id": "e5e637b0-8c8d-4574-88c9-b6290629b89f",
   "metadata": {},
   "outputs": [],
   "source": []
  },
  {
   "cell_type": "code",
   "execution_count": 20,
   "id": "808ef189-0c6a-472d-a323-278cd6b523fe",
   "metadata": {},
   "outputs": [
    {
     "data": {
      "text/plain": [
       "['airplane',\n",
       " 'automobile',\n",
       " 'bird',\n",
       " 'cat',\n",
       " 'deer',\n",
       " 'dog',\n",
       " 'frog',\n",
       " 'horse',\n",
       " 'ship',\n",
       " 'truck']"
      ]
     },
     "execution_count": 20,
     "metadata": {},
     "output_type": "execute_result"
    }
   ],
   "source": [
    "\n",
    "\n",
    "classes = ['airplane' ,'automobile' ,'bird','cat' ,'deer' ,'dog' ,'frog' ,'horse' ,'ship' ,'truck']\n",
    "\n",
    "classes"
   ]
  },
  {
   "cell_type": "code",
   "execution_count": 4,
   "id": "e494bfe0-06cb-4642-b9fd-93a34a791503",
   "metadata": {},
   "outputs": [],
   "source": [
    "(X_train,y_train),(X_test,y_test) = datasets.cifar10.load_data()"
   ]
  },
  {
   "cell_type": "code",
   "execution_count": 5,
   "id": "a104a73d-483a-4ef1-af9c-ddd06d3e2b7f",
   "metadata": {},
   "outputs": [
    {
     "data": {
      "text/plain": [
       "(50000, 32, 32, 3)"
      ]
     },
     "execution_count": 5,
     "metadata": {},
     "output_type": "execute_result"
    }
   ],
   "source": [
    "X_train.shape"
   ]
  },
  {
   "cell_type": "code",
   "execution_count": 9,
   "id": "860df131-802d-4a6d-92e3-93a047a97e57",
   "metadata": {},
   "outputs": [
    {
     "data": {
      "text/plain": [
       "array([4], dtype=uint8)"
      ]
     },
     "execution_count": 9,
     "metadata": {},
     "output_type": "execute_result"
    },
    {
     "data": {
      "image/png": "[encoded data removed]",
      "text/plain": [
       "<Figure size 200x200 with 1 Axes>"
      ]
     },
     "metadata": {},
     "output_type": "display_data"
    }
   ],
   "source": [
    "plt.figure(figsize=(2,2))\n",
    "plt.imshow(X_train[10])\n",
    "y_train[10]"
   ]
  },
  {
   "cell_type": "code",
   "execution_count": 11,
   "id": "7110dd2d-1037-49b3-b4f7-ffd44807aaca",
   "metadata": {},
   "outputs": [
    {
     "data": {
      "text/plain": [
       "tuple"
      ]
     },
     "execution_count": 11,
     "metadata": {},
     "output_type": "execute_result"
    }
   ],
   "source": [
    "type(y_train.shape)"
   ]
  },
  {
   "cell_type": "code",
   "execution_count": 12,
   "id": "87bbe3e8-7464-406f-8691-8f6d929e7f69",
   "metadata": {},
   "outputs": [
    {
     "data": {
      "text/plain": [
       "2"
      ]
     },
     "execution_count": 12,
     "metadata": {},
     "output_type": "execute_result"
    }
   ],
   "source": [
    "y_train.ndim"
   ]
  },
  {
   "cell_type": "code",
   "execution_count": 13,
   "id": "ddc78ef5-3220-442b-a86c-36759dd686fd",
   "metadata": {},
   "outputs": [],
   "source": [
    "y_train = y_train.reshape(-1,)"
   ]
  },
  {
   "cell_type": "code",
   "execution_count": 14,
   "id": "236090cc-d411-43d7-a9e1-7823d9961cba",
   "metadata": {},
   "outputs": [
    {
     "data": {
      "text/plain": [
       "1"
      ]
     },
     "execution_count": 14,
     "metadata": {},
     "output_type": "execute_result"
    }
   ],
   "source": [
    "y_train.ndim"
   ]
  },
  {
   "cell_type": "code",
   "execution_count": 15,
   "id": "d15b3938-4162-47a8-a6a8-89c2fbcba05e",
   "metadata": {},
   "outputs": [
    {
     "data": {
      "text/plain": [
       "4"
      ]
     },
     "execution_count": 15,
     "metadata": {},
     "output_type": "execute_result"
    }
   ],
   "source": [
    "y_train[10]"
   ]
  },
  {
   "cell_type": "code",
   "execution_count": 21,
   "id": "bd45624b-b977-4f2f-aa20-6b498630743e",
   "metadata": {},
   "outputs": [],
   "source": [
    "def showimgandclass(X,y,index):\n",
    "    plt.figure(figsize=(2,2))\n",
    "    plt.imshow(X[index])\n",
    "    plt.xlabel(classes[y[index]])"
   ]
  },
  {
   "cell_type": "code",
   "execution_count": 23,
   "id": "202be6ba-d1f4-4734-b7e9-156821f44698",
   "metadata": {},
   "outputs": [
    {
     "data": {
      "image/png": "[encoded data removed]",
      "text/plain": [
       "<Figure size 200x200 with 1 Axes>"
      ]
     },
     "metadata": {},
     "output_type": "display_data"
    }
   ],
   "source": [
    "showimgandclass(X_train,y_train,5\n",
    "               )"
   ]
  },
  {
   "cell_type": "code",
   "execution_count": 34,
   "id": "7cca82d4-366c-4a17-a9f2-d1712d12296a",
   "metadata": {},
   "outputs": [
    {
     "data": {
      "text/plain": [
       "array([[[ 59,  62,  63],\n",
       "        [ 43,  46,  45],\n",
       "        [ 50,  48,  43],\n",
       "        ...,\n",
       "        [158, 132, 108],\n",
       "        [152, 125, 102],\n",
       "        [148, 124, 103]],\n",
       "\n",
       "       [[ 16,  20,  20],\n",
       "        [  0,   0,   0],\n",
       "        [ 18,   8,   0],\n",
       "        ...,\n",
       "        [123,  88,  55],\n",
       "        [119,  83,  50],\n",
       "        [122,  87,  57]],\n",
       "\n",
       "       [[ 25,  24,  21],\n",
       "        [ 16,   7,   0],\n",
       "        [ 49,  27,   8],\n",
       "        ...,\n",
       "        [118,  84,  50],\n",
       "        [120,  84,  50],\n",
       "        [109,  73,  42]],\n",
       "\n",
       "       ...,\n",
       "\n",
       "       [[208, 170,  96],\n",
       "        [201, 153,  34],\n",
       "        [198, 161,  26],\n",
       "        ...,\n",
       "        [160, 133,  70],\n",
       "        [ 56,  31,   7],\n",
       "        [ 53,  34,  20]],\n",
       "\n",
       "       [[180, 139,  96],\n",
       "        [173, 123,  42],\n",
       "        [186, 144,  30],\n",
       "        ...,\n",
       "        [184, 148,  94],\n",
       "        [ 97,  62,  34],\n",
       "        [ 83,  53,  34]],\n",
       "\n",
       "       [[177, 144, 116],\n",
       "        [168, 129,  94],\n",
       "        [179, 142,  87],\n",
       "        ...,\n",
       "        [216, 184, 140],\n",
       "        [151, 118,  84],\n",
       "        [123,  92,  72]]], dtype=uint8)"
      ]
     },
     "execution_count": 34,
     "metadata": {},
     "output_type": "execute_result"
    }
   ],
   "source": [
    "X_train[0]"
   ]
  },
  {
   "cell_type": "code",
   "execution_count": 35,
   "id": "f41659b2-4ae8-4ddd-8dde-d7ea3300f5a3",
   "metadata": {},
   "outputs": [],
   "source": [
    "X_train = X_train/255\n",
    "X_test = X_test/255"
   ]
  },
  {
   "cell_type": "code",
   "execution_count": 37,
   "id": "edf60a84-3c85-4bfd-9a36-3a194fc9060c",
   "metadata": {},
   "outputs": [
    {
     "name": "stdout",
     "output_type": "stream",
     "text": [
      "[[[0.23137255 0.24313725 0.24705882]\n",
      "  [0.16862745 0.18039216 0.17647059]\n",
      "  [0.19607843 0.18823529 0.16862745]\n",
      "  ...\n",
      "  [0.61960784 0.51764706 0.42352941]\n",
      "  [0.59607843 0.49019608 0.4       ]\n",
      "  [0.58039216 0.48627451 0.40392157]]\n",
      "\n",
      " [[0.0627451  0.07843137 0.07843137]\n",
      "  [0.         0.         0.        ]\n",
      "  [0.07058824 0.03137255 0.        ]\n",
      "  ...\n",
      "  [0.48235294 0.34509804 0.21568627]\n",
      "  [0.46666667 0.3254902  0.19607843]\n",
      "  [0.47843137 0.34117647 0.22352941]]\n",
      "\n",
      " [[0.09803922 0.09411765 0.08235294]\n",
      "  [0.0627451  0.02745098 0.        ]\n",
      "  [0.19215686 0.10588235 0.03137255]\n",
      "  ...\n",
      "  [0.4627451  0.32941176 0.19607843]\n",
      "  [0.47058824 0.32941176 0.19607843]\n",
      "  [0.42745098 0.28627451 0.16470588]]\n",
      "\n",
      " ...\n",
      "\n",
      " [[0.81568627 0.66666667 0.37647059]\n",
      "  [0.78823529 0.6        0.13333333]\n",
      "  [0.77647059 0.63137255 0.10196078]\n",
      "  ...\n",
      "  [0.62745098 0.52156863 0.2745098 ]\n",
      "  [0.21960784 0.12156863 0.02745098]\n",
      "  [0.20784314 0.13333333 0.07843137]]\n",
      "\n",
      " [[0.70588235 0.54509804 0.37647059]\n",
      "  [0.67843137 0.48235294 0.16470588]\n",
      "  [0.72941176 0.56470588 0.11764706]\n",
      "  ...\n",
      "  [0.72156863 0.58039216 0.36862745]\n",
      "  [0.38039216 0.24313725 0.13333333]\n",
      "  [0.3254902  0.20784314 0.13333333]]\n",
      "\n",
      " [[0.69411765 0.56470588 0.45490196]\n",
      "  [0.65882353 0.50588235 0.36862745]\n",
      "  [0.70196078 0.55686275 0.34117647]\n",
      "  ...\n",
      "  [0.84705882 0.72156863 0.54901961]\n",
      "  [0.59215686 0.4627451  0.32941176]\n",
      "  [0.48235294 0.36078431 0.28235294]]]\n"
     ]
    }
   ],
   "source": [
    "print(X_train[0])"
   ]
  },
  {
   "cell_type": "code",
   "execution_count": 54,
   "id": "a9c6368c-c7c9-42fc-88aa-0d8d3a72da45",
   "metadata": {},
   "outputs": [],
   "source": [
    "from tensorflow.keras import models, layers\n",
    "\n",
    "model = models.Sequential()\n",
    "model.add(keras.Input(shape=(32,32,3)))  # Input: 32x32 RGB image\n",
    "model.add(layers.Flatten())  # Flatten into 3072\n",
    "\n",
    "# Hidden layers with ReLU activation\n",
    "model.add(layers.Dense(3000, activation='relu'))  \n",
    "model.add(layers.Dense(1000, activation='relu'))\n",
    "\n",
    "# Output layer with softmax for multi-class classification (e.g., CIFAR-10)\n",
    "model.add(layers.Dense(10, activation='softmax'))\n"
   ]
  },
  {
   "cell_type": "code",
   "execution_count": 55,
   "id": "eb96cb95-d863-4e5f-8b76-04939f6360fe",
   "metadata": {},
   "outputs": [
    {
     "data": {
      "text/plain": [
       "<Sequential name=sequential_7, built=True>"
      ]
     },
     "execution_count": 55,
     "metadata": {},
     "output_type": "execute_result"
    }
   ],
   "source": [
    "model"
   ]
  },
  {
   "cell_type": "code",
   "execution_count": 58,
   "id": "3af380b0-f432-48b1-b978-80d91e5f6bae",
   "metadata": {},
   "outputs": [],
   "source": [
    "model.compile(optimizer='SGD',loss='sparse_categorical_crossentropy',metrics=['accuracy'])"
   ]
  },
  {
   "cell_type": "code",
   "execution_count": 61,
   "id": "b9c98c44-8599-47db-b59c-3e1c1f4930ab",
   "metadata": {},
   "outputs": [
    {
     "name": "stdout",
     "output_type": "stream",
     "text": [
      "Epoch 1/5\n",
      "\u001b[1m1563/1563\u001b[0m \u001b[32m━━━━━━━━━━━━━━━━━━━━\u001b[0m\u001b[37m\u001b[0m \u001b[1m70s\u001b[0m 44ms/step - accuracy: 0.4147 - loss: 1.6511\n",
      "Epoch 2/5\n",
      "\u001b[1m1563/1563\u001b[0m \u001b[32m━━━━━━━━━━━━━━━━━━━━\u001b[0m\u001b[37m\u001b[0m \u001b[1m70s\u001b[0m 45ms/step - accuracy: 0.4532 - loss: 1.5531\n",
      "Epoch 3/5\n",
      "\u001b[1m1563/1563\u001b[0m \u001b[32m━━━━━━━━━━━━━━━━━━━━\u001b[0m\u001b[37m\u001b[0m \u001b[1m75s\u001b[0m 48ms/step - accuracy: 0.4720 - loss: 1.4926\n",
      "Epoch 4/5\n",
      "\u001b[1m1563/1563\u001b[0m \u001b[32m━━━━━━━━━━━━━━━━━━━━\u001b[0m\u001b[37m\u001b[0m \u001b[1m79s\u001b[0m 50ms/step - accuracy: 0.4953 - loss: 1.4389\n",
      "Epoch 5/5\n",
      "\u001b[1m1563/1563\u001b[0m \u001b[32m━━━━━━━━━━━━━━━━━━━━\u001b[0m\u001b[37m\u001b[0m \u001b[1m98s\u001b[0m 63ms/step - accuracy: 0.5095 - loss: 1.3924\n"
     ]
    },
    {
     "data": {
      "text/plain": [
       "<keras.src.callbacks.history.History at 0x242d26e97e0>"
      ]
     },
     "execution_count": 61,
     "metadata": {},
     "output_type": "execute_result"
    }
   ],
   "source": [
    "model.fit(X_train,y_train,epochs=5)"
   ]
  },
  {
   "cell_type": "code",
   "execution_count": 69,
   "id": "beac9a75-3e6d-40fe-bbcd-fb44326f9257",
   "metadata": {},
   "outputs": [],
   "source": [
    "cnn = models.Sequential()\n",
    "cnn.add(layers.Conv2D(filters=32,kernel_size=(3,3),activation='relu',input_shape=(32,32,3)))\n",
    "cnn.add(layers.MaxPool2D((2,2))),\n",
    "cnn.add(layers.Conv2D(filters=64,kernel_size=(3,3),activation='relu')),\n",
    "cnn.add(layers.MaxPool2D((2,2)))\n",
    "cnn.add(layers.Flatten())  # Flatten into 3072\n",
    "\n",
    "# Hidden layers with ReLU activation\n",
    "cnn.add(layers.Dense(32, activation='relu'))  \n",
    "cnn.add(layers.Dense(64, activation='relu'))\n",
    "\n",
    "# Output layer with softmax for multi-class classification (e.g., CIFAR-10)\n",
    "cnn.add(layers.Dense(10, activation='softmax'))\n"
   ]
  },
  {
   "cell_type": "code",
   "execution_count": 72,
   "id": "10997db7-e5dc-4e5e-a1b5-d12f9a1da9c6",
   "metadata": {},
   "outputs": [],
   "source": [
    "cnn.compile(optimizer='adam',loss='sparse_categorical_crossentropy',metrics=['accuracy'])"
   ]
  },
  {
   "cell_type": "code",
   "execution_count": 74,
   "id": "92332903-cce8-4ec6-a9c4-a6611209c73e",
   "metadata": {},
   "outputs": [
    {
     "name": "stdout",
     "output_type": "stream",
     "text": [
      "Epoch 1/5\n",
      "\u001b[1m1563/1563\u001b[0m \u001b[32m━━━━━━━━━━━━━━━━━━━━\u001b[0m\u001b[37m\u001b[0m \u001b[1m23s\u001b[0m 14ms/step - accuracy: 0.5830 - loss: 1.1729\n",
      "Epoch 2/5\n",
      "\u001b[1m1563/1563\u001b[0m \u001b[32m━━━━━━━━━━━━━━━━━━━━\u001b[0m\u001b[37m\u001b[0m \u001b[1m24s\u001b[0m 15ms/step - accuracy: 0.6487 - loss: 1.0059\n",
      "Epoch 3/5\n",
      "\u001b[1m1563/1563\u001b[0m \u001b[32m━━━━━━━━━━━━━━━━━━━━\u001b[0m\u001b[37m\u001b[0m \u001b[1m26s\u001b[0m 17ms/step - accuracy: 0.6822 - loss: 0.9037\n",
      "Epoch 4/5\n",
      "\u001b[1m1563/1563\u001b[0m \u001b[32m━━━━━━━━━━━━━━━━━━━━\u001b[0m\u001b[37m\u001b[0m \u001b[1m38s\u001b[0m 15ms/step - accuracy: 0.7090 - loss: 0.8347\n",
      "Epoch 5/5\n",
      "\u001b[1m1563/1563\u001b[0m \u001b[32m━━━━━━━━━━━━━━━━━━━━\u001b[0m\u001b[37m\u001b[0m \u001b[1m25s\u001b[0m 16ms/step - accuracy: 0.7257 - loss: 0.7837\n"
     ]
    },
    {
     "data": {
      "text/plain": [
       "<keras.src.callbacks.history.History at 0x242cbfb11e0>"
      ]
     },
     "execution_count": 74,
     "metadata": {},
     "output_type": "execute_result"
    }
   ],
   "source": [
    "cnn.fit(X_train,y_train,epochs=5)"
   ]
  },
  {
   "cell_type": "code",
   "execution_count": 75,
   "id": "5238e5ed-cc19-4a41-83f2-38adc5001f19",
   "metadata": {},
   "outputs": [
    {
     "name": "stdout",
     "output_type": "stream",
     "text": [
      "\u001b[1m313/313\u001b[0m \u001b[32m━━━━━━━━━━━━━━━━━━━━\u001b[0m\u001b[37m\u001b[0m \u001b[1m3s\u001b[0m 9ms/step\n"
     ]
    }
   ],
   "source": [
    "y_pred = cnn.predict(X_test)"
   ]
  },
  {
   "cell_type": "code",
   "execution_count": 86,
   "id": "8d7a035a-d8e0-4139-acaa-ba01737f896e",
   "metadata": {},
   "outputs": [
    {
     "data": {
      "text/plain": [
       "array([3], dtype=uint8)"
      ]
     },
     "execution_count": 86,
     "metadata": {},
     "output_type": "execute_result"
    }
   ],
   "source": [
    "y_test[0]"
   ]
  },
  {
   "cell_type": "code",
   "execution_count": 76,
   "id": "5af25f83-575d-4092-b221-80eb73a7b45b",
   "metadata": {},
   "outputs": [],
   "source": [
    "import numpy as np"
   ]
  },
  {
   "cell_type": "code",
   "execution_count": 84,
   "id": "1a95d87c-a4f6-4e84-9578-b727d4c5f0a3",
   "metadata": {},
   "outputs": [
    {
     "data": {
      "text/plain": [
       "'cat'"
      ]
     },
     "execution_count": 84,
     "metadata": {},
     "output_type": "execute_result"
    }
   ],
   "source": [
    "classes[np.argmax(y_pred[0])]"
   ]
  },
  {
   "cell_type": "code",
   "execution_count": 87,
   "id": "49515e12-d00a-4411-a192-09f76c88a1e4",
   "metadata": {},
   "outputs": [
    {
     "name": "stderr",
     "output_type": "stream",
     "text": [
      "C:\\Users\\Admin\\AppData\\Local\\Temp\\ipykernel_6948\\4013424151.py:2: DeprecationWarning: Conversion of an array with ndim > 0 to a scalar is deprecated, and will error in future. Ensure you extract a single element from your array before performing this operation. (Deprecated NumPy 1.25.)\n",
      "  plt.xlabel(classes[int(y_test[0])])\n"
     ]
    },
    {
     "data": {
      "text/plain": [
       "Text(0.5, 0, 'cat')"
      ]
     },
     "execution_count": 87,
     "metadata": {},
     "output_type": "execute_result"
    },
    {
     "data": {
      "image/png": "[encoded data removed]",
      "text/plain": [
       "<Figure size 640x480 with 1 Axes>"
      ]
     },
     "metadata": {},
     "output_type": "display_data"
    }
   ],
   "source": [
    "plt.imshow(X_test[0])\n",
    "plt.xlabel(classes[int(y_test[0])])"
   ]
  },
  {
   "cell_type": "code",
   "execution_count": null,
   "id": "ff93420f-1e5d-421c-9338-c2079f80582e",
   "metadata": {},
   "outputs": [],
   "source": []
  }
 ],
 "metadata": {
  "kernelspec": {
   "display_name": "Python 3 (ipykernel)",
   "language": "python",
   "name": "python3"
  },
  "language_info": {
   "codemirror_mode": {
    "name": "ipython",
    "version": 3
   },
   "file_extension": ".py",
   "mimetype": "text/x-python",
   "name": "python",
   "nbconvert_exporter": "python",
   "pygments_lexer": "ipython3",
   "version": "3.10.0"
  }
 },
 "nbformat": 4,
 "nbformat_minor": 5
}
